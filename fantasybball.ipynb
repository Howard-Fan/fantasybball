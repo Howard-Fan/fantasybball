{
 "cells": [
  {
   "cell_type": "code",
   "execution_count": 1,
   "metadata": {},
   "outputs": [
    {
     "name": "stderr",
     "output_type": "stream",
     "text": [
      "/Users/trpf793/notebooks/venv/lib/python3.7/site-packages/pandas/compat/__init__.py:97: UserWarning: Could not import the lzma module. Your installed Python is incomplete. Attempting to use lzma compression will result in a RuntimeError.\n",
      "  warnings.warn(msg)\n"
     ]
    }
   ],
   "source": [
    "from yahoo_oauth import OAuth2\n",
    "import yahoo_fantasy_api as yfa\n",
    "import pandas as pd"
   ]
  },
  {
   "cell_type": "code",
   "execution_count": 2,
   "metadata": {},
   "outputs": [],
   "source": [
    "player_statisitc_conversion_map = {\n",
    "        \"9004003\": [{\"name\": \"FGM\", \"type\": lambda x: int(x)},{\"name\": \"FGA\", \"type\": lambda x: int(x)}],\n",
    "        \"5\": {\"name\": \"FG%\", \"type\": lambda x: float(x)},\n",
    "        \"9007006\": [{\"name\": \"FTM\", \"type\": lambda x: int(x)},{\"name\": \"FTA\", \"type\": lambda x: int(x)}],\n",
    "        \"8\": {\"name\": \"FT%\", \"type\": lambda x: float(x)},\n",
    "        \"10\": {\"name\": \"3PTM\", \"type\": lambda x: int(x)},\n",
    "        \"12\": {\"name\": \"PTS\", \"type\": lambda x: int(x)},\n",
    "        \"15\": {\"name\": \"REB\", \"type\": lambda x: int(x)},\n",
    "        \"16\": {\"name\": \"AST\", \"type\": lambda x: int(x)},\n",
    "        \"17\": {\"name\": \"ST\", \"type\": lambda x: int(x)},\n",
    "        \"18\": {\"name\": \"BLK\", \"type\": lambda x: int(x)},\n",
    "        \"19\": {\"name\": \"TO\", \"type\": lambda x: int(x)}\n",
    "}"
   ]
  },
  {
   "cell_type": "code",
   "execution_count": 3,
   "metadata": {},
   "outputs": [],
   "source": [
    "def get_team_data(sc, league_id: str, week: int):\n",
    "    \"\"\"\n",
    "    Returns:\n",
    "    {\n",
    "        \"fantasy_content\":{\n",
    "            \"league\": [\n",
    "                {league information},\n",
    "                {matchup information}\n",
    "            ]\n",
    "        }\n",
    "    }\n",
    "    \"\"\"\n",
    "    gm = yfa.Game(sc, 'nba')\n",
    "    return gm.to_league(league_id).matchups(week=week)"
   ]
  },
  {
   "cell_type": "code",
   "execution_count": 4,
   "metadata": {},
   "outputs": [],
   "source": [
    "def flatten_team_matchup_information_from_api(api_data: dict):\n",
    "    \"\"\"\n",
    "    team_data: the direct output from get_team_data()\n",
    "    \n",
    "    Returns: \n",
    "    [\n",
    "        {\n",
    "            \"team_id\": \"1\",\n",
    "            \"team_name\": \"Howard's Team\",\n",
    "            \"team_stats\": [\n",
    "                {\n",
    "                   \"stat\":{\n",
    "                      \"stat_id\":\"9004003\",\n",
    "                      \"value\":\"185/358\"\n",
    "                   }\n",
    "                },\n",
    "                ...\n",
    "            ]\n",
    "        }\n",
    "        ...\n",
    "    ]\n",
    "    \"\"\"\n",
    "    \n",
    "    matchups = api_data.get(\"fantasy_content\").get(\"league\")[1].get(\"scoreboard\").get(\"0\").get(\"matchups\")\n",
    "    matchup_count = matchups.get(\"count\")\n",
    "\n",
    "    teams = list()\n",
    "\n",
    "    for i in range(matchup_count):\n",
    "        matchup = matchups.get(str(i))\n",
    "        teams_per_matchup = matchup.get(\"matchup\").get(\"0\").get(\"teams\")\n",
    "        team_count_per_matchup = teams_per_matchup.get(\"count\")\n",
    "\n",
    "        for i in range(team_count_per_matchup):\n",
    "            team = teams_per_matchup.get(str(i)).get(\"team\")\n",
    "            team_info = team[0]\n",
    "            team_stats = team[1].get(\"team_stats\").get(\"stats\")\n",
    "\n",
    "            result = dict()\n",
    "            for info in team_info:\n",
    "                if isinstance(info, dict):\n",
    "                    if info.get(\"id\"):  \n",
    "                        result.update({\n",
    "                            \"team_id\": info.get(\"id\")\n",
    "                        })\n",
    "                    elif info.get(\"name\"):\n",
    "                        result.update({\n",
    "                            \"team_name\": info.get(\"name\")\n",
    "                        })\n",
    "            result.update({\n",
    "                \"team_stats\": team_stats\n",
    "            })\n",
    "            teams.append(result)\n",
    "    return teams\n"
   ]
  },
  {
   "cell_type": "code",
   "execution_count": 5,
   "metadata": {},
   "outputs": [],
   "source": [
    "def curate_team_stats(team_data: dict):\n",
    "    \"\"\"\n",
    "    team_data: Curated API data from flatten_team_matchup_information_from_api()\n",
    "    \n",
    "    Returns:\n",
    "    [\n",
    "        {\n",
    "            \"team_id\": \"1\",\n",
    "            \"team_name\": \"Howard's Team\",\n",
    "            \"FGM\": 100,\n",
    "            \"FGA\": 300,\n",
    "            ...\n",
    "        }\n",
    "        ...\n",
    "    ]\n",
    "    \"\"\"\n",
    "    \n",
    "    final_results = list()\n",
    "    \n",
    "    for team in team_data:\n",
    "        result = dict()\n",
    "        result.update({\"team_name\": team.get(\"team_name\")})        \n",
    "        stats = team.get(\"team_stats\")\n",
    "        for stat in stats:\n",
    "            stat_conversion_helper = player_statisitc_conversion_map.get(stat.get(\"stat\").get(\"stat_id\"))\n",
    "\n",
    "            if isinstance(stat_conversion_helper, list):\n",
    "                # This branch is to split up FGM/A and FTM/A\n",
    "                made_stat_name = stat_conversion_helper[0].get(\"name\")\n",
    "                attempted_stat_name = stat_conversion_helper[1].get(\"name\")\n",
    "                made_stat_value = stat_conversion_helper[0].get(\"type\")(stat.get(\"stat\").get(\"value\").split(\"/\")[0])\n",
    "                attempted_stat_value = stat_conversion_helper[1].get(\"type\")(stat.get(\"stat\").get(\"value\").split(\"/\")[1])\n",
    "\n",
    "                result.update(\n",
    "                    {\n",
    "                        made_stat_name: made_stat_value,\n",
    "                        attempted_stat_name: attempted_stat_value,\n",
    "                    }\n",
    "                )\n",
    "            else:\n",
    "                # This is for everything else\n",
    "                stat_name = stat_conversion_helper.get(\"name\")\n",
    "                stat_value = stat_conversion_helper.get(\"type\")(stat.get(\"stat\").get(\"value\"))\n",
    "\n",
    "                result.update(\n",
    "                    {\n",
    "                        stat_name: stat_value\n",
    "                    }\n",
    "                )\n",
    "        final_results.append(result)\n",
    "    return final_results"
   ]
  },
  {
   "cell_type": "code",
   "execution_count": 10,
   "metadata": {},
   "outputs": [],
   "source": [
    "def to_excel(df, league_name):\n",
    "    # Create a Pandas Excel writer using XlsxWriter as the engine.\n",
    "    writer = pd.ExcelWriter(f\"~/Desktop/fbball_{league_name}_w{week_to_process}.xlsx\", engine=\"xlsxwriter\")\n",
    "\n",
    "    # Write the dataframe data to XlsxWriter. Turn off the default header and\n",
    "    # index and skip one row to allow us to insert a user defined header.\n",
    "    df.to_excel(writer, sheet_name=\"Sheet1\", startrow=1, header=False, index=False)\n",
    "\n",
    "    # Get the xlsxwriter workbook and worksheet objects.\n",
    "    workbook = writer.book\n",
    "    worksheet = writer.sheets[\"Sheet1\"]\n",
    "\n",
    "    # Get the dimensions of the dataframe.\n",
    "    (max_row, max_col) = df.shape\n",
    "\n",
    "    # Create a list of column headers, to use in add_table().\n",
    "    column_settings = [{\"header\": column} for column in df.columns]\n",
    "\n",
    "    # Add the Excel table structure. Pandas will add the data.\n",
    "    worksheet.add_table(0, 0, max_row, max_col - 1, {\"columns\": column_settings})\n",
    "\n",
    "    # Make the columns wider for clarity.\n",
    "    worksheet.set_column(0, max_col - 1, 12)\n",
    "\n",
    "    # Close the Pandas Excel writer and output the Excel file.\n",
    "    writer.save()\n"
   ]
  },
  {
   "cell_type": "code",
   "execution_count": 7,
   "metadata": {},
   "outputs": [
    {
     "name": "stderr",
     "output_type": "stream",
     "text": [
      "[2021-01-04 16:30:01,956 DEBUG] [yahoo_oauth.oauth.__init__] Checking \n",
      "[2021-01-04 16:30:01,958 DEBUG] [yahoo_oauth.oauth.token_is_valid] ELAPSED TIME : 3935.086354970932\n",
      "[2021-01-04 16:30:01,959 DEBUG] [yahoo_oauth.oauth.token_is_valid] TOKEN HAS EXPIRED\n",
      "[2021-01-04 16:30:01,959 DEBUG] [yahoo_oauth.oauth.refresh_access_token] REFRESHING TOKEN\n"
     ]
    }
   ],
   "source": [
    "sc = OAuth2(None, None, from_file='oauth2.json')"
   ]
  },
  {
   "cell_type": "code",
   "execution_count": 8,
   "metadata": {},
   "outputs": [],
   "source": [
    "ny_league_id = \"402.l.166838\"\n",
    "tw_league_id = \"402.l.64329\"\n",
    "week_to_process = \"1\""
   ]
  },
  {
   "cell_type": "code",
   "execution_count": 9,
   "metadata": {},
   "outputs": [],
   "source": [
    "ny_stats = pd.DataFrame(curate_team_stats(flatten_team_matchup_information_from_api(get_team_data(sc, ny_league_id, week_to_process))))\n",
    "tw_stats = pd.DataFrame(curate_team_stats(flatten_team_matchup_information_from_api(get_team_data(sc, tw_league_id, week_to_process))))"
   ]
  },
  {
   "cell_type": "code",
   "execution_count": 11,
   "metadata": {},
   "outputs": [],
   "source": [
    "to_excel(ny_stats, \"ny\")\n",
    "to_excel(tw_stats, \"tw\")"
   ]
  }
 ],
 "metadata": {
  "kernelspec": {
   "display_name": "venv",
   "language": "python",
   "name": "venv"
  },
  "language_info": {
   "codemirror_mode": {
    "name": "ipython",
    "version": 3
   },
   "file_extension": ".py",
   "mimetype": "text/x-python",
   "name": "python",
   "nbconvert_exporter": "python",
   "pygments_lexer": "ipython3",
   "version": "3.7.9"
  }
 },
 "nbformat": 4,
 "nbformat_minor": 4
}
